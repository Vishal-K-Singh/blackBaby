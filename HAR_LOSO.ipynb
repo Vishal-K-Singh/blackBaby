{
 "cells": [
  {
   "cell_type": "markdown",
   "metadata": {},
   "source": [
    "# Smart Wearables -- Bonsai Tree Classification on stream data"
   ]
  },
  {
   "cell_type": "markdown",
   "metadata": {},
   "source": [
    "## 1. Introduction & Library Imports "
   ]
  },
  {
   "cell_type": "code",
   "execution_count": 1,
   "metadata": {},
   "outputs": [],
   "source": [
    "import numpy as np\n",
    "from sklearn.metrics import accuracy_score, recall_score, f1_score\n",
    "import scipy.stats as st\n",
    "import sys\n",
    "from sklearn.model_selection import train_test_split\n",
    "from bonsai.base.regtree import RegTree\n",
    "from bonsai.base.alphatree import AlphaTree\n",
    "from bonsai.base.c45tree import C45Tree\n",
    "from bonsai.base.ginitree import GiniTree\n",
    "from bonsai.base.xgbtree import XGBTree\n",
    "from bonsai.base.friedmantree import FriedmanTree\n",
    "from bonsai.ensemble.randomforests import RandomForests\n",
    "from bonsai.ensemble.paloboost import PaloBoost\n",
    "from bonsai.ensemble.gbm import GBM\n",
    "#from bonsai.ensemble.streamforests import StreamForests\n",
    "import copy\n",
    "import sys\n",
    "import json\n",
    "import time"
   ]
  },
  {
   "cell_type": "code",
   "execution_count": 7,
   "metadata": {},
   "outputs": [],
   "source": []
  },
  {
   "cell_type": "code",
   "execution_count": null,
   "metadata": {},
   "outputs": [],
   "source": [
    "import math\n",
    "from keras import optimizers\n",
    "from utils import *\n",
    "from model import *\n",
    "from keras.utils.np_utils import to_categorical\n",
    "from IPython.display import SVG\n",
    "from keras.utils.vis_utils import model_to_dot\n",
    "\n",
    "# Setting seed for reproducability\n",
    "np.random.seed(1234)  \n",
    "PYTHONHASHSEED = 0\n",
    "from sklearn import preprocessing\n",
    "from sklearn.metrics import confusion_matrix, recall_score, precision_score\n",
    "from keras.models import Sequential\n",
    "from keras.layers import Dense, Dropout, LSTM, Activation\n",
    "%matplotlib inline\n",
    "\n",
    "#import pydot\n",
    "#import graphviz\n",
    "#pydot.find_graphviz = lambda: True\n",
    "import keras"
   ]
  },
  {
   "cell_type": "markdown",
   "metadata": {},
   "source": [
    "## 2. Data Gathering"
   ]
  },
  {
   "cell_type": "code",
   "execution_count": 2,
   "metadata": {},
   "outputs": [],
   "source": [
    "data_input_file = 'data/LOSO/USCHAD.npz'\n",
    "np_load_old = np.load\n",
    "\n",
    "# modify the default parameters of np.load\n",
    "np.load = lambda *a,**k: np_load_old(*a, allow_pickle=True, **k)\n",
    "tmp = np.load(data_input_file)\n",
    "np.load = np_load_old"
   ]
  },
  {
   "cell_type": "code",
   "execution_count": 3,
   "metadata": {},
   "outputs": [],
   "source": [
    "X = tmp['X']\n",
    "X = X[:, 0, :, :]\n",
    "y = tmp['y']\n",
    "folds = tmp['folds']"
   ]
  },
  {
   "cell_type": "code",
   "execution_count": 4,
   "metadata": {},
   "outputs": [
    {
     "name": "stdout",
     "output_type": "stream",
     "text": [
      "Hancrafted Template 2017 data/LOSO/USCHAD.npz\n"
     ]
    }
   ],
   "source": [
    "n_class = y.shape[1]\n",
    "y = np.argmax(y, axis=1)\n",
    "print('Hancrafted Template 2017 {}'.format(data_input_file))"
   ]
  },
  {
   "cell_type": "markdown",
   "metadata": {},
   "source": [
    "## 3. Feature Engineering"
   ]
  },
  {
   "cell_type": "code",
   "execution_count": 5,
   "metadata": {},
   "outputs": [],
   "source": [
    "def A(sample):\n",
    "    feat = []\n",
    "    for col in range(0,sample.shape[1]):\n",
    "        average = np.average(sample[:,col])\n",
    "        feat.append(average)\n",
    "\n",
    "    return feat\n",
    "\n",
    "def SD(sample):\n",
    "    feat = []\n",
    "    for col in range(0, sample.shape[1]):\n",
    "        std = np.std(sample[:, col])\n",
    "        feat.append(std)\n",
    "\n",
    "    return feat\n",
    "\n",
    "def AAD(sample):\n",
    "    feat = []\n",
    "    for col in range(0, sample.shape[1]):\n",
    "        data = sample[:, col]\n",
    "        add = np.mean(np.absolute(data - np.mean(data)))\n",
    "        feat.append(add)\n",
    "\n",
    "    return feat\n",
    "\n",
    "def ARA(sample):\n",
    "    #Average Resultant Acceleration[1]:\n",
    "    # Average of the square roots of the sum of the values of each axis squared √(xi^2 + yi^2+ zi^2) over the ED\n",
    "    feat = []\n",
    "    sum_square = 0\n",
    "    sample = np.power(sample, 2)\n",
    "    for col in range(0, sample.shape[1]):\n",
    "        sum_square = sum_square + sample[:, col]\n",
    "\n",
    "    sample = np.sqrt(sum_square)\n",
    "    average = np.average(sample)\n",
    "    feat.append(average)\n",
    "    return feat\n",
    "\n",
    "def TBP(sample):\n",
    "    from scipy import signal\n",
    "    feat = []\n",
    "    sum_of_time = 0\n",
    "    for col in range(0, sample.shape[1]):\n",
    "        data = sample[:, col]\n",
    "        peaks = signal.find_peaks_cwt(data, np.arange(1,4))\n",
    "\n",
    "        feat.append(peaks)\n",
    "\n",
    "    return feat\n",
    "\n",
    "def feature_extraction(X):\n",
    "    #Extracts the features, as mentioned by Catal et al. 2015\n",
    "    # Average - A,\n",
    "    # Standard Deviation - SD,\n",
    "    # Average Absolute Difference - AAD,\n",
    "    # Average Resultant Acceleration - ARA(1),\n",
    "    # Time Between Peaks - TBP\n",
    "    X_tmp = []\n",
    "    for sample in X:\n",
    "        features = A(copy.copy(sample))\n",
    "        features = np.hstack((features, A(copy.copy(sample))))\n",
    "        features = np.hstack((features, SD(copy.copy(sample))))\n",
    "        features = np.hstack((features, AAD(copy.copy(sample))))\n",
    "        features = np.hstack((features, ARA(copy.copy(sample))))\n",
    "        #features = np.hstack((features, TBP(sample)))\n",
    "        X_tmp.append(features)\n",
    "\n",
    "    X = np.array(X_tmp)\n",
    "    return X\n"
   ]
  },
  {
   "cell_type": "markdown",
   "metadata": {},
   "source": [
    "## 4. RegTree"
   ]
  },
  {
   "cell_type": "code",
   "execution_count": 13,
   "metadata": {},
   "outputs": [
    {
     "name": "stdout",
     "output_type": "stream",
     "text": [
      "Accuracy[0.5207] Recall[0.6025] F1[0.4862] at fold[0]\n",
      "______________________________________________________\n"
     ]
    },
    {
     "ename": "KeyboardInterrupt",
     "evalue": "",
     "output_type": "error",
     "traceback": [
      "\u001b[0;31m---------------------------------------------------------------------------\u001b[0m",
      "\u001b[0;31mKeyboardInterrupt\u001b[0m                         Traceback (most recent call last)",
      "\u001b[0;32m<ipython-input-13-f23e12d2a73b>\u001b[0m in \u001b[0;36m<module>\u001b[0;34m\u001b[0m\n\u001b[1;32m     15\u001b[0m     \u001b[0;31m#X_train=X_train.transpose(0,1,2).reshape(X_train.shape[0],-1)\u001b[0m\u001b[0;34m\u001b[0m\u001b[0;34m\u001b[0m\u001b[0;34m\u001b[0m\u001b[0m\n\u001b[1;32m     16\u001b[0m     \u001b[0;31m#X_test=X_test.transpose(0,1,2).reshape(X_test.shape[0],-1)\u001b[0m\u001b[0;34m\u001b[0m\u001b[0;34m\u001b[0m\u001b[0;34m\u001b[0m\u001b[0m\n\u001b[0;32m---> 17\u001b[0;31m     \u001b[0mX_train\u001b[0m \u001b[0;34m=\u001b[0m \u001b[0mfeature_extraction\u001b[0m\u001b[0;34m(\u001b[0m\u001b[0mX_train\u001b[0m\u001b[0;34m)\u001b[0m\u001b[0;34m\u001b[0m\u001b[0;34m\u001b[0m\u001b[0m\n\u001b[0m\u001b[1;32m     18\u001b[0m     \u001b[0mX_test\u001b[0m \u001b[0;34m=\u001b[0m \u001b[0mfeature_extraction\u001b[0m\u001b[0;34m(\u001b[0m\u001b[0mX_test\u001b[0m\u001b[0;34m)\u001b[0m\u001b[0;34m\u001b[0m\u001b[0;34m\u001b[0m\u001b[0m\n\u001b[1;32m     19\u001b[0m \u001b[0;34m\u001b[0m\u001b[0m\n",
      "\u001b[0;32m<ipython-input-5-84957f613280>\u001b[0m in \u001b[0;36mfeature_extraction\u001b[0;34m(X)\u001b[0m\n\u001b[1;32m     62\u001b[0m         \u001b[0mfeatures\u001b[0m \u001b[0;34m=\u001b[0m \u001b[0mnp\u001b[0m\u001b[0;34m.\u001b[0m\u001b[0mhstack\u001b[0m\u001b[0;34m(\u001b[0m\u001b[0;34m(\u001b[0m\u001b[0mfeatures\u001b[0m\u001b[0;34m,\u001b[0m \u001b[0mA\u001b[0m\u001b[0;34m(\u001b[0m\u001b[0mcopy\u001b[0m\u001b[0;34m.\u001b[0m\u001b[0mcopy\u001b[0m\u001b[0;34m(\u001b[0m\u001b[0msample\u001b[0m\u001b[0;34m)\u001b[0m\u001b[0;34m)\u001b[0m\u001b[0;34m)\u001b[0m\u001b[0;34m)\u001b[0m\u001b[0;34m\u001b[0m\u001b[0;34m\u001b[0m\u001b[0m\n\u001b[1;32m     63\u001b[0m         \u001b[0mfeatures\u001b[0m \u001b[0;34m=\u001b[0m \u001b[0mnp\u001b[0m\u001b[0;34m.\u001b[0m\u001b[0mhstack\u001b[0m\u001b[0;34m(\u001b[0m\u001b[0;34m(\u001b[0m\u001b[0mfeatures\u001b[0m\u001b[0;34m,\u001b[0m \u001b[0mSD\u001b[0m\u001b[0;34m(\u001b[0m\u001b[0mcopy\u001b[0m\u001b[0;34m.\u001b[0m\u001b[0mcopy\u001b[0m\u001b[0;34m(\u001b[0m\u001b[0msample\u001b[0m\u001b[0;34m)\u001b[0m\u001b[0;34m)\u001b[0m\u001b[0;34m)\u001b[0m\u001b[0;34m)\u001b[0m\u001b[0;34m\u001b[0m\u001b[0;34m\u001b[0m\u001b[0m\n\u001b[0;32m---> 64\u001b[0;31m         \u001b[0mfeatures\u001b[0m \u001b[0;34m=\u001b[0m \u001b[0mnp\u001b[0m\u001b[0;34m.\u001b[0m\u001b[0mhstack\u001b[0m\u001b[0;34m(\u001b[0m\u001b[0;34m(\u001b[0m\u001b[0mfeatures\u001b[0m\u001b[0;34m,\u001b[0m \u001b[0mAAD\u001b[0m\u001b[0;34m(\u001b[0m\u001b[0mcopy\u001b[0m\u001b[0;34m.\u001b[0m\u001b[0mcopy\u001b[0m\u001b[0;34m(\u001b[0m\u001b[0msample\u001b[0m\u001b[0;34m)\u001b[0m\u001b[0;34m)\u001b[0m\u001b[0;34m)\u001b[0m\u001b[0;34m)\u001b[0m\u001b[0;34m\u001b[0m\u001b[0;34m\u001b[0m\u001b[0m\n\u001b[0m\u001b[1;32m     65\u001b[0m         \u001b[0mfeatures\u001b[0m \u001b[0;34m=\u001b[0m \u001b[0mnp\u001b[0m\u001b[0;34m.\u001b[0m\u001b[0mhstack\u001b[0m\u001b[0;34m(\u001b[0m\u001b[0;34m(\u001b[0m\u001b[0mfeatures\u001b[0m\u001b[0;34m,\u001b[0m \u001b[0mARA\u001b[0m\u001b[0;34m(\u001b[0m\u001b[0mcopy\u001b[0m\u001b[0;34m.\u001b[0m\u001b[0mcopy\u001b[0m\u001b[0;34m(\u001b[0m\u001b[0msample\u001b[0m\u001b[0;34m)\u001b[0m\u001b[0;34m)\u001b[0m\u001b[0;34m)\u001b[0m\u001b[0;34m)\u001b[0m\u001b[0;34m\u001b[0m\u001b[0;34m\u001b[0m\u001b[0m\n\u001b[1;32m     66\u001b[0m         \u001b[0;31m#features = np.hstack((features, TBP(sample)))\u001b[0m\u001b[0;34m\u001b[0m\u001b[0;34m\u001b[0m\u001b[0;34m\u001b[0m\u001b[0m\n",
      "\u001b[0;32m/opt/anaconda3/lib/python3.7/copy.py\u001b[0m in \u001b[0;36mcopy\u001b[0;34m(x)\u001b[0m\n\u001b[1;32m     86\u001b[0m     \u001b[0mcopier\u001b[0m \u001b[0;34m=\u001b[0m \u001b[0mgetattr\u001b[0m\u001b[0;34m(\u001b[0m\u001b[0mcls\u001b[0m\u001b[0;34m,\u001b[0m \u001b[0;34m\"__copy__\"\u001b[0m\u001b[0;34m,\u001b[0m \u001b[0;32mNone\u001b[0m\u001b[0;34m)\u001b[0m\u001b[0;34m\u001b[0m\u001b[0;34m\u001b[0m\u001b[0m\n\u001b[1;32m     87\u001b[0m     \u001b[0;32mif\u001b[0m \u001b[0mcopier\u001b[0m\u001b[0;34m:\u001b[0m\u001b[0;34m\u001b[0m\u001b[0;34m\u001b[0m\u001b[0m\n\u001b[0;32m---> 88\u001b[0;31m         \u001b[0;32mreturn\u001b[0m \u001b[0mcopier\u001b[0m\u001b[0;34m(\u001b[0m\u001b[0mx\u001b[0m\u001b[0;34m)\u001b[0m\u001b[0;34m\u001b[0m\u001b[0;34m\u001b[0m\u001b[0m\n\u001b[0m\u001b[1;32m     89\u001b[0m \u001b[0;34m\u001b[0m\u001b[0m\n\u001b[1;32m     90\u001b[0m     \u001b[0mreductor\u001b[0m \u001b[0;34m=\u001b[0m \u001b[0mdispatch_table\u001b[0m\u001b[0;34m.\u001b[0m\u001b[0mget\u001b[0m\u001b[0;34m(\u001b[0m\u001b[0mcls\u001b[0m\u001b[0;34m)\u001b[0m\u001b[0;34m\u001b[0m\u001b[0;34m\u001b[0m\u001b[0m\n",
      "\u001b[0;31mKeyboardInterrupt\u001b[0m: "
     ]
    }
   ],
   "source": [
    "avg_acc = []\n",
    "avg_recall = []\n",
    "avg_f1 = []\n",
    "avg_ttime=[]\n",
    "avg_ptime=[]\n",
    "avg_size=[]\n",
    "for i in range(0, len(folds)):\n",
    "    train_idx = folds[i][0]\n",
    "    test_idx = folds[i][1]\n",
    "\n",
    "    X_train, y_train = X[train_idx], y[train_idx]\n",
    "    X_test, y_test = X[test_idx], y[test_idx]\n",
    "\n",
    "        #Your train goes here. For instance:\n",
    "    #X_train=X_train.transpose(0,1,2).reshape(X_train.shape[0],-1)\n",
    "    #X_test=X_test.transpose(0,1,2).reshape(X_test.shape[0],-1)\n",
    "    X_train = feature_extraction(X_train)\n",
    "    X_test = feature_extraction(X_test)      \n",
    "        \n",
    "    method = RegTree(max_depth=400,min_samples_split=1,min_samples_leaf=2)\n",
    "    t0=time.time()\n",
    "    method.fit(X_train, y_train)\n",
    "    avg_ttime.append(time.time()-t0)\n",
    "            #Your testing goes here. For instance:\n",
    "    t1=time.time()\n",
    "    y_pred = method.predict(X_test)\n",
    "    avg_ptime.append(time.time()-t1)\n",
    "    y_pred=np.round(y_pred,0)\n",
    "    y_pred=y_pred.astype(int)\n",
    "    v=method.dump()\n",
    "    avg_size.append(round(v.__sizeof__()/1024,3))\n",
    "\n",
    "    acc_fold = accuracy_score(y_test, y_pred)\n",
    "    avg_acc.append(acc_fold)\n",
    "\n",
    "    recall_fold = recall_score(y_test, y_pred, average='macro')\n",
    "    avg_recall.append(recall_fold)\n",
    "\n",
    "    f1_fold  = f1_score(y_test, y_pred, average='macro')\n",
    "    avg_f1.append(f1_fold)\n",
    "\n",
    "    print('Accuracy[{:.4f}] Recall[{:.4f}] F1[{:.4f}] at fold[{}]'.format(acc_fold, recall_fold, f1_fold ,i))\n",
    "    print('______________________________________________________')"
   ]
  },
  {
   "cell_type": "code",
   "execution_count": 9,
   "metadata": {},
   "outputs": [
    {
     "name": "stdout",
     "output_type": "stream",
     "text": [
      "Mean Accuracy[0.5000] IC [0.4380, 0.5620]\n",
      "Mean Recall[0.4764] IC [0.4352, 0.5176]\n",
      "Mean F1[0.4137] IC [0.3679, 0.4596]\n",
      "Mean size[2.448]\n",
      "Mean training time[1057.860]\n",
      "Mean prediction time[0.184]\n"
     ]
    }
   ],
   "source": [
    "ic_acc = st.t.interval(0.9, len(avg_acc) - 1, loc=np.mean(avg_acc), scale=st.sem(avg_acc))\n",
    "ic_recall = st.t.interval(0.9, len(avg_recall) - 1, loc=np.mean(avg_recall), scale=st.sem(avg_recall))\n",
    "ic_f1 = st.t.interval(0.9, len(avg_f1) - 1, loc=np.mean(avg_f1), scale=st.sem(avg_f1))\n",
    "print('Mean Accuracy[{:.4f}] IC [{:.4f}, {:.4f}]'.format(np.mean(avg_acc), ic_acc[0], ic_acc[1]))\n",
    "print('Mean Recall[{:.4f}] IC [{:.4f}, {:.4f}]'.format(np.mean(avg_recall), ic_recall[0], ic_recall[1]))\n",
    "print('Mean F1[{:.4f}] IC [{:.4f}, {:.4f}]'.format(np.mean(avg_f1), ic_f1[0], ic_f1[1]))\n",
    "print('Mean size[{:.3f}]'.format(np.mean(avg_size)))\n",
    "print('Mean training time[{:.3f}]'.format(round(np.mean(avg_ttime)*1000,3)))\n",
    "print('Mean prediction time[{:.3f}]'.format(round(np.mean(avg_ptime)*1000,3)))"
   ]
  },
  {
   "cell_type": "code",
   "execution_count": null,
   "metadata": {},
   "outputs": [],
   "source": []
  },
  {
   "cell_type": "markdown",
   "metadata": {},
   "source": [
    "## 5. XGBTree"
   ]
  },
  {
   "cell_type": "code",
   "execution_count": 24,
   "metadata": {},
   "outputs": [
    {
     "name": "stdout",
     "output_type": "stream",
     "text": [
      "Accuracy[1.0000] Recall[1.0000] F1[1.0000] at fold[0]\n",
      "______________________________________________________\n",
      "Accuracy[0.8403] Recall[0.8579] F1[0.8405] at fold[1]\n",
      "______________________________________________________\n",
      "Accuracy[0.9442] Recall[0.9476] F1[0.9444] at fold[2]\n",
      "______________________________________________________\n",
      "Accuracy[0.7820] Recall[0.7721] F1[0.7517] at fold[3]\n",
      "______________________________________________________\n",
      "Accuracy[0.8340] Recall[0.8406] F1[0.7990] at fold[4]\n",
      "______________________________________________________\n",
      "Accuracy[0.9129] Recall[0.9167] F1[0.8930] at fold[5]\n",
      "______________________________________________________\n",
      "Accuracy[0.8182] Recall[0.8261] F1[0.7740] at fold[6]\n",
      "______________________________________________________\n",
      "Accuracy[0.8452] Recall[0.8659] F1[0.8334] at fold[7]\n",
      "______________________________________________________\n",
      "Accuracy[0.9721] Recall[0.9716] F1[0.9711] at fold[8]\n",
      "______________________________________________________\n",
      "Accuracy[0.9395] Recall[0.9453] F1[0.9360] at fold[9]\n",
      "______________________________________________________\n"
     ]
    }
   ],
   "source": [
    "avg_acc = []\n",
    "avg_recall = []\n",
    "avg_f1 = []\n",
    "avg_ttime=[]\n",
    "avg_ptime=[]\n",
    "avg_size=[]\n",
    "for i in range(0, len(folds)):\n",
    "    train_idx = folds[i][0]\n",
    "    test_idx = folds[i][1]\n",
    "\n",
    "    X_train, y_train = X[train_idx], y[train_idx]\n",
    "    X_test, y_test = X[test_idx], y[test_idx]\n",
    "    \n",
    "    X_train = feature_extraction(X_train)\n",
    "    X_test = feature_extraction(X_test)      \n",
    "        \n",
    "    method = XGBTree(max_depth=10,min_samples_split=1,min_samples_leaf=1)\n",
    "    t0=time.time()\n",
    "    method.fit(X_train, y_train)\n",
    "    avg_ttime.append(time.time()-t0)\n",
    "            #Your testing goes here. For instance:\n",
    "    t1=time.time()\n",
    "    y_pred = method.predict(X_test)\n",
    "    avg_ptime.append(time.time()-t1)\n",
    "    y_pred=np.round(y_pred,0)\n",
    "    y_pred=y_pred.astype(int)\n",
    "    v=method.dump()\n",
    "    avg_size.append(round(v.__sizeof__()/1024,3))\n",
    "\n",
    "    acc_fold = accuracy_score(y_test, y_pred)\n",
    "    avg_acc.append(acc_fold)\n",
    "\n",
    "    recall_fold = recall_score(y_test, y_pred, average='macro')\n",
    "    avg_recall.append(recall_fold)\n",
    "\n",
    "    f1_fold  = f1_score(y_test, y_pred, average='macro')\n",
    "    avg_f1.append(f1_fold)\n",
    "\n",
    "    print('Accuracy[{:.4f}] Recall[{:.4f}] F1[{:.4f}] at fold[{}]'.format(acc_fold, recall_fold, f1_fold ,i))\n",
    "    print('______________________________________________________')"
   ]
  },
  {
   "cell_type": "code",
   "execution_count": 25,
   "metadata": {},
   "outputs": [
    {
     "name": "stdout",
     "output_type": "stream",
     "text": [
      "Mean Accuracy[0.8888] IC [0.8460, 0.9317]\n",
      "Mean Recall[0.8944] IC [0.8522, 0.9366]\n",
      "Mean F1[0.8743] IC [0.8240, 0.9246]\n",
      "Mean size[0.945]\n",
      "Mean training time[1350.741]\n",
      "Mean prediction time[0.123]\n"
     ]
    }
   ],
   "source": [
    "ic_acc = st.t.interval(0.9, len(avg_acc) - 1, loc=np.mean(avg_acc), scale=st.sem(avg_acc))\n",
    "ic_recall = st.t.interval(0.9, len(avg_recall) - 1, loc=np.mean(avg_recall), scale=st.sem(avg_recall))\n",
    "ic_f1 = st.t.interval(0.9, len(avg_f1) - 1, loc=np.mean(avg_f1), scale=st.sem(avg_f1))\n",
    "print('Mean Accuracy[{:.4f}] IC [{:.4f}, {:.4f}]'.format(np.mean(avg_acc), ic_acc[0], ic_acc[1]))\n",
    "print('Mean Recall[{:.4f}] IC [{:.4f}, {:.4f}]'.format(np.mean(avg_recall), ic_recall[0], ic_recall[1]))\n",
    "print('Mean F1[{:.4f}] IC [{:.4f}, {:.4f}]'.format(np.mean(avg_f1), ic_f1[0], ic_f1[1]))\n",
    "print('Mean size[{:.3f}]'.format(np.mean(avg_size)))\n",
    "print('Mean training time[{:.3f}]'.format(round(np.mean(avg_ttime)*1000,3)))\n",
    "print('Mean prediction time[{:.3f}]'.format(round(np.mean(avg_ptime)*1000,3)))"
   ]
  },
  {
   "cell_type": "code",
   "execution_count": null,
   "metadata": {},
   "outputs": [],
   "source": []
  },
  {
   "cell_type": "markdown",
   "metadata": {},
   "source": [
    "## 6. FriedmanTree"
   ]
  },
  {
   "cell_type": "code",
   "execution_count": 26,
   "metadata": {},
   "outputs": [
    {
     "name": "stdout",
     "output_type": "stream",
     "text": [
      "Accuracy[1.0000] Recall[1.0000] F1[1.0000] at fold[0]\n",
      "______________________________________________________\n",
      "Accuracy[0.8213] Recall[0.7988] F1[0.7886] at fold[1]\n",
      "______________________________________________________\n",
      "Accuracy[0.8725] Recall[0.8837] F1[0.8550] at fold[2]\n",
      "______________________________________________________\n",
      "Accuracy[0.8534] Recall[0.8349] F1[0.8289] at fold[3]\n",
      "______________________________________________________\n",
      "Accuracy[0.8340] Recall[0.8406] F1[0.7986] at fold[4]\n",
      "______________________________________________________\n",
      "Accuracy[0.7386] Recall[0.7564] F1[0.6914] at fold[5]\n",
      "______________________________________________________\n",
      "Accuracy[0.9170] Recall[0.9167] F1[0.8667] at fold[6]\n",
      "______________________________________________________\n",
      "Accuracy[0.8410] Recall[0.8375] F1[0.8172] at fold[7]\n",
      "______________________________________________________\n",
      "Accuracy[0.8207] Recall[0.8288] F1[0.7986] at fold[8]\n",
      "______________________________________________________\n",
      "Accuracy[0.8548] Recall[0.8596] F1[0.8265] at fold[9]\n",
      "______________________________________________________\n"
     ]
    }
   ],
   "source": [
    "avg_acc = []\n",
    "avg_recall = []\n",
    "avg_f1 = []\n",
    "avg_ttime=[]\n",
    "avg_ptime=[]\n",
    "avg_size=[]\n",
    "for i in range(0, len(folds)):\n",
    "    train_idx = folds[i][0]\n",
    "    test_idx = folds[i][1]\n",
    "\n",
    "    X_train, y_train = X[train_idx], y[train_idx]\n",
    "    X_test, y_test = X[test_idx], y[test_idx]\n",
    "\n",
    "    X_train = feature_extraction(X_train)\n",
    "    X_test = feature_extraction(X_test)      \n",
    "        \n",
    "    method = FriedmanTree(max_depth=10,min_samples_split=1,min_samples_leaf=2)\n",
    "    t0=time.time()\n",
    "    method.fit(X_train, y_train)\n",
    "    avg_ttime.append(time.time()-t0)\n",
    "            #Your testing goes here. For instance:\n",
    "    t1=time.time()\n",
    "    y_pred = method.predict(X_test)\n",
    "    avg_ptime.append(time.time()-t1)\n",
    "    y_pred=np.round(y_pred,0)\n",
    "    y_pred=y_pred.astype(int)\n",
    "    v=method.dump()\n",
    "    avg_size.append(round(v.__sizeof__()/1024,3))\n",
    "\n",
    "    acc_fold = accuracy_score(y_test, y_pred)\n",
    "    avg_acc.append(acc_fold)\n",
    "\n",
    "    recall_fold = recall_score(y_test, y_pred, average='macro')\n",
    "    avg_recall.append(recall_fold)\n",
    "\n",
    "    f1_fold  = f1_score(y_test, y_pred, average='macro')\n",
    "    avg_f1.append(f1_fold)\n",
    "\n",
    "    print('Accuracy[{:.4f}] Recall[{:.4f}] F1[{:.4f}] at fold[{}]'.format(acc_fold, recall_fold, f1_fold ,i))\n",
    "    print('______________________________________________________')"
   ]
  },
  {
   "cell_type": "code",
   "execution_count": 27,
   "metadata": {},
   "outputs": [
    {
     "name": "stdout",
     "output_type": "stream",
     "text": [
      "Mean Accuracy[0.8553] IC [0.8159, 0.8948]\n",
      "Mean Recall[0.8557] IC [0.8170, 0.8944]\n",
      "Mean F1[0.8272] IC [0.7823, 0.8720]\n",
      "Mean size[1.109]\n",
      "Mean training time[1481.100]\n",
      "Mean prediction time[0.107]\n"
     ]
    }
   ],
   "source": [
    "ic_acc = st.t.interval(0.9, len(avg_acc) - 1, loc=np.mean(avg_acc), scale=st.sem(avg_acc))\n",
    "ic_recall = st.t.interval(0.9, len(avg_recall) - 1, loc=np.mean(avg_recall), scale=st.sem(avg_recall))\n",
    "ic_f1 = st.t.interval(0.9, len(avg_f1) - 1, loc=np.mean(avg_f1), scale=st.sem(avg_f1))\n",
    "print('Mean Accuracy[{:.4f}] IC [{:.4f}, {:.4f}]'.format(np.mean(avg_acc), ic_acc[0], ic_acc[1]))\n",
    "print('Mean Recall[{:.4f}] IC [{:.4f}, {:.4f}]'.format(np.mean(avg_recall), ic_recall[0], ic_recall[1]))\n",
    "print('Mean F1[{:.4f}] IC [{:.4f}, {:.4f}]'.format(np.mean(avg_f1), ic_f1[0], ic_f1[1]))\n",
    "print('Mean size[{:.3f}]'.format(np.mean(avg_size)))\n",
    "print('Mean training time[{:.3f}]'.format(round(np.mean(avg_ttime)*1000,3)))\n",
    "print('Mean prediction time[{:.3f}]'.format(round(np.mean(avg_ptime)*1000,3)))"
   ]
  },
  {
   "cell_type": "code",
   "execution_count": null,
   "metadata": {},
   "outputs": [],
   "source": []
  },
  {
   "cell_type": "markdown",
   "metadata": {},
   "source": [
    "## 7. PaloBoost"
   ]
  },
  {
   "cell_type": "code",
   "execution_count": 28,
   "metadata": {},
   "outputs": [
    {
     "name": "stdout",
     "output_type": "stream",
     "text": [
      "Accuracy[0.9843] Recall[0.9855] F1[0.9784] at fold[0]\n",
      "______________________________________________________\n",
      "Accuracy[0.7757] Recall[0.7557] F1[0.7250] at fold[1]\n",
      "______________________________________________________\n",
      "Accuracy[0.9243] Recall[0.9294] F1[0.9237] at fold[2]\n",
      "______________________________________________________\n",
      "Accuracy[0.8534] Recall[0.8262] F1[0.8366] at fold[3]\n",
      "______________________________________________________\n",
      "Accuracy[0.9170] Recall[0.9203] F1[0.9122] at fold[4]\n",
      "______________________________________________________\n",
      "Accuracy[0.9432] Recall[0.9291] F1[0.9334] at fold[5]\n",
      "______________________________________________________\n",
      "Accuracy[0.8933] Recall[0.8949] F1[0.8462] at fold[6]\n",
      "______________________________________________________\n",
      "Accuracy[0.7113] Recall[0.7321] F1[0.6540] at fold[7]\n",
      "______________________________________________________\n",
      "Accuracy[0.8008] Recall[0.7478] F1[0.7461] at fold[8]\n",
      "______________________________________________________\n",
      "Accuracy[0.7500] Recall[0.7624] F1[0.6821] at fold[9]\n",
      "______________________________________________________\n"
     ]
    }
   ],
   "source": [
    "avg_acc = []\n",
    "avg_recall = []\n",
    "avg_f1 = []\n",
    "avg_ttime=[]\n",
    "avg_ptime=[]\n",
    "avg_size=[]\n",
    "for i in range(0, len(folds)):\n",
    "    train_idx = folds[i][0]\n",
    "    test_idx = folds[i][1]\n",
    "\n",
    "    X_train, y_train = X[train_idx], y[train_idx]\n",
    "    X_test, y_test = X[test_idx], y[test_idx]\n",
    "\n",
    "    X_train = feature_extraction(X_train)\n",
    "    X_test = feature_extraction(X_test)      \n",
    "        \n",
    "    method = PaloBoost(n_estimators=50,max_depth=6,min_samples_split=1,min_samples_leaf=2)\n",
    "    t0=time.time()\n",
    "    method.fit(X_train, y_train)\n",
    "    avg_ttime.append(time.time()-t0)\n",
    "            #Your testing goes here. For instance:\n",
    "    t1=time.time()\n",
    "    y_pred = method.predict(X_test)\n",
    "    avg_ptime.append(time.time()-t1)\n",
    "    y_pred=np.round(y_pred,0)\n",
    "    y_pred=y_pred.astype(int)\n",
    "    v=method.dump()\n",
    "    avg_size.append(round(v.__sizeof__()/1024,3))\n",
    "\n",
    "    acc_fold = accuracy_score(y_test, y_pred)\n",
    "    avg_acc.append(acc_fold)\n",
    "\n",
    "    recall_fold = recall_score(y_test, y_pred, average='macro')\n",
    "    avg_recall.append(recall_fold)\n",
    "\n",
    "    f1_fold  = f1_score(y_test, y_pred, average='macro')\n",
    "    avg_f1.append(f1_fold)\n",
    "\n",
    "    print('Accuracy[{:.4f}] Recall[{:.4f}] F1[{:.4f}] at fold[{}]'.format(acc_fold, recall_fold, f1_fold ,i))\n",
    "    print('______________________________________________________')"
   ]
  },
  {
   "cell_type": "code",
   "execution_count": 29,
   "metadata": {},
   "outputs": [
    {
     "name": "stdout",
     "output_type": "stream",
     "text": [
      "Mean Accuracy[0.8553] IC [0.8022, 0.9084]\n",
      "Mean Recall[0.8483] IC [0.7939, 0.9028]\n",
      "Mean F1[0.8238] IC [0.7571, 0.8904]\n",
      "Mean size[0.211]\n",
      "Mean training time[20185.270]\n",
      "Mean prediction time[4.369]\n"
     ]
    }
   ],
   "source": [
    "ic_acc = st.t.interval(0.9, len(avg_acc) - 1, loc=np.mean(avg_acc), scale=st.sem(avg_acc))\n",
    "ic_recall = st.t.interval(0.9, len(avg_recall) - 1, loc=np.mean(avg_recall), scale=st.sem(avg_recall))\n",
    "ic_f1 = st.t.interval(0.9, len(avg_f1) - 1, loc=np.mean(avg_f1), scale=st.sem(avg_f1))\n",
    "print('Mean Accuracy[{:.4f}] IC [{:.4f}, {:.4f}]'.format(np.mean(avg_acc), ic_acc[0], ic_acc[1]))\n",
    "print('Mean Recall[{:.4f}] IC [{:.4f}, {:.4f}]'.format(np.mean(avg_recall), ic_recall[0], ic_recall[1]))\n",
    "print('Mean F1[{:.4f}] IC [{:.4f}, {:.4f}]'.format(np.mean(avg_f1), ic_f1[0], ic_f1[1]))\n",
    "print('Mean size[{:.3f}]'.format(np.mean(avg_size)))\n",
    "print('Mean training time[{:.3f}]'.format(round(np.mean(avg_ttime)*1000,3)))\n",
    "print('Mean prediction time[{:.3f}]'.format(round(np.mean(avg_ptime)*1000,3)))"
   ]
  },
  {
   "cell_type": "code",
   "execution_count": null,
   "metadata": {},
   "outputs": [],
   "source": []
  },
  {
   "cell_type": "markdown",
   "metadata": {},
   "source": [
    "## 8. GBM"
   ]
  },
  {
   "cell_type": "code",
   "execution_count": 35,
   "metadata": {},
   "outputs": [
    {
     "name": "stdout",
     "output_type": "stream",
     "text": [
      "Accuracy[0.9922] Recall[0.9928] F1[0.9924] at fold[0]\n",
      "______________________________________________________\n",
      "Accuracy[0.8251] Recall[0.8276] F1[0.8040] at fold[1]\n",
      "______________________________________________________\n",
      "Accuracy[0.9363] Recall[0.9403] F1[0.9308] at fold[2]\n",
      "______________________________________________________\n",
      "Accuracy[0.8872] Recall[0.8586] F1[0.8616] at fold[3]\n",
      "______________________________________________________\n",
      "Accuracy[0.8189] Recall[0.8261] F1[0.7874] at fold[4]\n",
      "______________________________________________________\n",
      "Accuracy[0.9242] Recall[0.9275] F1[0.9135] at fold[5]\n",
      "______________________________________________________\n",
      "Accuracy[0.9170] Recall[0.9167] F1[0.8860] at fold[6]\n",
      "______________________________________________________\n",
      "Accuracy[0.7448] Recall[0.7649] F1[0.7078] at fold[7]\n",
      "______________________________________________________\n",
      "Accuracy[0.7211] Recall[0.6742] F1[0.6438] at fold[8]\n",
      "______________________________________________________\n",
      "Accuracy[0.9113] Recall[0.9088] F1[0.8989] at fold[9]\n",
      "______________________________________________________\n"
     ]
    }
   ],
   "source": [
    "avg_acc = []\n",
    "avg_recall = []\n",
    "avg_f1 = []\n",
    "avg_ttime=[]\n",
    "avg_ptime=[]\n",
    "avg_size=[]\n",
    "for i in range(0, len(folds)):\n",
    "    train_idx = folds[i][0]\n",
    "    test_idx = folds[i][1]\n",
    "\n",
    "    X_train, y_train = X[train_idx], y[train_idx]\n",
    "    X_test, y_test = X[test_idx], y[test_idx]\n",
    "\n",
    "    X_train = feature_extraction(X_train)\n",
    "    X_test = feature_extraction(X_test)      \n",
    "        \n",
    "    method = GBM(n_estimators=50,max_depth=8)\n",
    "    t0=time.time()\n",
    "    method.fit(X_train, y_train)\n",
    "    avg_ttime.append(time.time()-t0)\n",
    "            #Your testing goes here. For instance:\n",
    "    t1=time.time()\n",
    "    y_pred = method.predict(X_test)\n",
    "    avg_ptime.append(time.time()-t1)\n",
    "    y_pred=np.round(y_pred,0)\n",
    "    y_pred=y_pred.astype(int)\n",
    "    v=method.dump()\n",
    "    avg_size.append(round(v.__sizeof__()/1024,3))\n",
    "    acc_fold = accuracy_score(y_test, y_pred)\n",
    "    avg_acc.append(acc_fold)\n",
    "\n",
    "    recall_fold = recall_score(y_test, y_pred, average='macro')\n",
    "    avg_recall.append(recall_fold)\n",
    "\n",
    "    f1_fold  = f1_score(y_test, y_pred, average='macro')\n",
    "    avg_f1.append(f1_fold)\n",
    "\n",
    "    print('Accuracy[{:.4f}] Recall[{:.4f}] F1[{:.4f}] at fold[{}]'.format(acc_fold, recall_fold, f1_fold ,i))\n",
    "    print('______________________________________________________')"
   ]
  },
  {
   "cell_type": "code",
   "execution_count": 36,
   "metadata": {},
   "outputs": [
    {
     "name": "stdout",
     "output_type": "stream",
     "text": [
      "Mean Accuracy[0.8678] IC [0.8171, 0.9185]\n",
      "Mean Recall[0.8638] IC [0.8092, 0.9184]\n",
      "Mean F1[0.8426] IC [0.7806, 0.9046]\n",
      "Mean size[0.211]\n",
      "Mean training time[41260.655]\n",
      "Mean prediction time[6.397]\n"
     ]
    }
   ],
   "source": [
    "ic_acc = st.t.interval(0.9, len(avg_acc) - 1, loc=np.mean(avg_acc), scale=st.sem(avg_acc))\n",
    "ic_recall = st.t.interval(0.9, len(avg_recall) - 1, loc=np.mean(avg_recall), scale=st.sem(avg_recall))\n",
    "ic_f1 = st.t.interval(0.9, len(avg_f1) - 1, loc=np.mean(avg_f1), scale=st.sem(avg_f1))\n",
    "print('Mean Accuracy[{:.4f}] IC [{:.4f}, {:.4f}]'.format(np.mean(avg_acc), ic_acc[0], ic_acc[1]))\n",
    "print('Mean Recall[{:.4f}] IC [{:.4f}, {:.4f}]'.format(np.mean(avg_recall), ic_recall[0], ic_recall[1]))\n",
    "print('Mean F1[{:.4f}] IC [{:.4f}, {:.4f}]'.format(np.mean(avg_f1), ic_f1[0], ic_f1[1]))\n",
    "print('Mean size[{:.3f}]'.format(np.mean(avg_size)))\n",
    "print('Mean training time[{:.3f}]'.format(round(np.mean(avg_ttime)*1000,3)))\n",
    "print('Mean prediction time[{:.3f}]'.format(round(np.mean(avg_ptime)*1000,3)))"
   ]
  },
  {
   "cell_type": "code",
   "execution_count": null,
   "metadata": {},
   "outputs": [],
   "source": []
  },
  {
   "cell_type": "markdown",
   "metadata": {},
   "source": [
    "## 9. Conclusion"
   ]
  },
  {
   "cell_type": "code",
   "execution_count": 358,
   "metadata": {},
   "outputs": [
    {
     "name": "stdout",
     "output_type": "stream",
     "text": [
      "+---------------+---------------+-------------+---------+\n",
      "|     Model     | Mean Accuracy | Mean Recall | Mean F1 |\n",
      "+---------------+---------------+-------------+---------+\n",
      "|    Reg Tree   |     0.8716    |    0.8679   |  0.8431 |\n",
      "|    XGB Tree   |     0.8888    |    0.8944   |  0.8743 |\n",
      "| Friedman Tree |     0.8553    |    0.8532   |  0.8229 |\n",
      "|   Palo Boost  |     0.8477    |    0.8327   |  0.8085 |\n",
      "|      GBM      |     0.8678    |    0.8638   |  0.8426 |\n",
      "+---------------+---------------+-------------+---------+\n",
      "+-------+---------------+-------------+---------+\n",
      "| Model | Mean Accuracy | Mean Recall | Mean F1 |\n",
      "+-------+---------------+-------------+---------+\n",
      "|  Mean |     86.62     |      0      |    0    |\n",
      "+-------+---------------+-------------+---------+\n"
     ]
    }
   ],
   "source": [
    "from prettytable import PrettyTable    \n",
    "x = PrettyTable()\n",
    "x.field_names = [\"Model\", \"Mean Accuracy\", \"Mean Recall\", \"Mean F1\"]\n",
    "x.add_row([\"Reg Tree\", 0.8716,0.8679,0.8431])\n",
    "x.add_row([\"XGB Tree\", 0.8888, 0.8944, 0.8743])\n",
    "x.add_row([\"Friedman Tree\", 0.8553, 0.8532, 0.8229])\n",
    "x.add_row([\"Palo Boost\", 0.8477, 0.8327, 0.8085])\n",
    "x.add_row([\"GBM\", 0.8678, 0.8638, 0.8426])\n",
    "\n",
    "y = PrettyTable()\n",
    "y.field_names = [\"Model\", \"Mean Accuracy\", \"Mean Recall\", \"Mean F1\"]\n",
    "y.add_row([\"Mean\", 86.62, 0, 0])\n",
    "print(x)\n",
    "print(y)"
   ]
  },
  {
   "cell_type": "code",
   "execution_count": 369,
   "metadata": {},
   "outputs": [
    {
     "name": "stdout",
     "output_type": "stream",
     "text": [
      "+-----------+-------+-------+-------+-------+\n",
      "|   Model   |  SNOW |  FNOW |  LOTO |  LOSO |\n",
      "+-----------+-------+-------+-------+-------+\n",
      "| Old paper | 90.03 | 87.78 | 83.41 | 84.52 |\n",
      "| New paper | 98.56 | 97.65 | 85.92 | 86.62 |\n",
      "+-----------+-------+-------+-------+-------+\n"
     ]
    }
   ],
   "source": [
    "y = PrettyTable()\n",
    "y.field_names = [\"Model\", \"SNOW\", \"FNOW\",\"LOTO\", \"LOSO\"]\n",
    "y.add_row([\"Old paper\", 90.03, 87.78, 83.41,84.52])\n",
    "y.add_row([\"New paper\", 98.56, 97.65, 85.92,86.62])\n",
    "\n",
    "print(y)"
   ]
  },
  {
   "cell_type": "code",
   "execution_count": null,
   "metadata": {},
   "outputs": [],
   "source": []
  },
  {
   "cell_type": "code",
   "execution_count": 3,
   "metadata": {},
   "outputs": [
    {
     "data": {
      "image/png": "[encoded data removed]",
      "text/plain": [
       "<Figure size 720x504 with 1 Axes>"
      ]
     },
     "metadata": {
      "needs_background": "light"
     },
     "output_type": "display_data"
    }
   ],
   "source": [
    "import numpy as np \n",
    "import matplotlib.pyplot as plt \n",
    "  \n",
    "N = 4\n",
    "  \n",
    "boys = (90.03, 87.78, 83.41, 84.52) \n",
    "girls = (98.56, 97.65, 85.92, 86.62) \n",
    "boyStd = (2, 3, 4, 1, 2) \n",
    "girlStd = (3, 5, 2, 3, 3) \n",
    "ind = np.arange(N)    \n",
    "width = 0.35  \n",
    "  \n",
    "fig = plt.subplots(figsize =(10, 7)) \n",
    "p1 = plt.bar(ind, boys, width)#, yerr = boyStd) \n",
    "p2 = plt.bar(ind, girls, width, \n",
    "             bottom = boys)#, yerr = girlStd) \n",
    "  \n",
    "plt.ylabel('Accuracy') \n",
    "plt.title('Comparison of') \n",
    "plt.xticks(ind, ('SNOW', 'FNOW', 'LOTO', 'LOSO')) \n",
    "plt.yticks(np.arange(0, 81, 10)) \n",
    "plt.legend((p1[0], p2[0]), ('Jordao, Artur, et al. [1]', 'Bonsai')) \n",
    "  \n",
    "plt.show() "
   ]
  },
  {
   "cell_type": "code",
   "execution_count": 16,
   "metadata": {},
   "outputs": [
    {
     "data": {
      "image/png": "[encoded data removed]",
      "text/plain": [
       "<Figure size 504x360 with 1 Axes>"
      ]
     },
     "metadata": {
      "needs_background": "light"
     },
     "output_type": "display_data"
    }
   ],
   "source": [
    "import numpy as np \n",
    "import matplotlib.pyplot as plt \n",
    "   \n",
    "# set width of bar \n",
    "barWidth = 0.25\n",
    "fig = plt.subplots(figsize =(7, 5)) \n",
    "   \n",
    "# set height of bar \n",
    "boys = [90.03, 87.78, 83.41, 84.52]\n",
    "girls = [98.56, 97.65, 85.92, 86.62] \n",
    "#CSE = [29, 3, 24, 25, 17] \n",
    "   \n",
    "# Set position of bar on X axis \n",
    "br1 = np.arange(4) \n",
    "br2 = [x + barWidth for x in br1] \n",
    "#br3 = [x + barWidth for x in br2] \n",
    "   \n",
    "# Make the plot \n",
    "p1=plt.bar(br1, boys, color ='r', width = barWidth, \n",
    "        edgecolor ='grey', label ='Jordao, Artur, et al. [1]') \n",
    "p2=plt.bar(br2, girls, color ='b', width = barWidth, \n",
    "        edgecolor ='grey', label ='Bonsai') \n",
    "#plt.bar(br3, CSE, color ='b', width = barWidth, \n",
    "#        edgecolor ='grey', label ='CSE') \n",
    "   \n",
    "# Adding Xticks  \n",
    "plt.xlabel('', fontweight ='bold') \n",
    "plt.ylabel('Mean Accuracy', fontweight ='bold') \n",
    "plt.xticks([r + 0.1 for r in range(len(boys))], \n",
    "           ['SNOW', 'FNOW', 'LOTO', 'LOSO']) \n",
    "plt.legend((p1[0], p2[0]), ('Jordao, Artur, et al. [1]', 'Bonsai')) \n",
    "#plt.title('Comparison of Mean Accuracies with benchmark paper ') \n",
    "plt.show() "
   ]
  },
  {
   "cell_type": "code",
   "execution_count": null,
   "metadata": {},
   "outputs": [],
   "source": []
  },
  {
   "cell_type": "code",
   "execution_count": 22,
   "metadata": {},
   "outputs": [
    {
     "name": "stdout",
     "output_type": "stream",
     "text": [
      "Accuracy[1.0000] Recall[1.0000] F1[1.0000] at fold[0]\n",
      "______________________________________________________\n",
      "Accuracy[0.8403] Recall[0.8579] F1[0.8405] at fold[1]\n",
      "______________________________________________________\n",
      "Accuracy[0.9442] Recall[0.9476] F1[0.9444] at fold[2]\n",
      "______________________________________________________\n",
      "Accuracy[0.7820] Recall[0.7721] F1[0.7517] at fold[3]\n",
      "______________________________________________________\n",
      "Accuracy[0.8340] Recall[0.8406] F1[0.7990] at fold[4]\n",
      "______________________________________________________\n",
      "Accuracy[0.9129] Recall[0.9167] F1[0.8930] at fold[5]\n",
      "______________________________________________________\n",
      "Accuracy[0.8182] Recall[0.8261] F1[0.7740] at fold[6]\n",
      "______________________________________________________\n",
      "Accuracy[0.8452] Recall[0.8659] F1[0.8334] at fold[7]\n",
      "______________________________________________________\n",
      "Accuracy[0.9721] Recall[0.9716] F1[0.9711] at fold[8]\n",
      "______________________________________________________\n",
      "Accuracy[0.9395] Recall[0.9453] F1[0.9360] at fold[9]\n",
      "______________________________________________________\n"
     ]
    }
   ],
   "source": [
    "#from bonsai.ensemble.streamforests import StreamForests\n",
    "avg_acc = []\n",
    "avg_recall = []\n",
    "avg_f1 = []\n",
    "avg_ttime=[]\n",
    "avg_ptime=[]\n",
    "avg_size=[]\n",
    "for i in range(0, len(folds)):\n",
    "    train_idx = folds[i][0]\n",
    "    test_idx = folds[i][1]\n",
    "\n",
    "    X_train, y_train = X[train_idx], y[train_idx]\n",
    "    X_test, y_test = X[test_idx], y[test_idx]\n",
    "\n",
    "        #Your train goes here. For instance:\n",
    "    #X_train=X_train.transpose(0,1,2).reshape(X_train.shape[0],-1)\n",
    "    #X_test=X_test.transpose(0,1,2).reshape(X_test.shape[0],-1)\n",
    "    X_train = feature_extraction(X_train)\n",
    "    X_test = feature_extraction(X_test)      \n",
    "    reg_params = {\"max_depth\":10,\"min_samples_split\":1,\"min_samples_leaf\":1}\n",
    "    method = StreamForests(base_estimator=XGBTree,base_params=reg_params,n_estimators=10)\n",
    "    t0=time.time()\n",
    "    method.fit(X_train, y_train)\n",
    "    avg_ttime.append(time.time()-t0)\n",
    "            #Your testing goes here. For instance:\n",
    "    t1=time.time()\n",
    "    y_pred = method.predict(X_test)\n",
    "    avg_ptime.append(time.time()-t1)\n",
    "    y_pred=np.round(y_pred,0)\n",
    "    y_pred=y_pred.astype(int)\n",
    "    v=method.dump()\n",
    "    avg_size.append(round(v.__sizeof__()/1024,3))\n",
    "\n",
    "    acc_fold = accuracy_score(y_test, y_pred)\n",
    "    avg_acc.append(acc_fold)\n",
    "\n",
    "    recall_fold = recall_score(y_test, y_pred, average='macro')\n",
    "    avg_recall.append(recall_fold)\n",
    "\n",
    "    f1_fold  = f1_score(y_test, y_pred, average='macro')\n",
    "    avg_f1.append(f1_fold)\n",
    "\n",
    "    print('Accuracy[{:.4f}] Recall[{:.4f}] F1[{:.4f}] at fold[{}]'.format(acc_fold, recall_fold, f1_fold ,i))\n",
    "    print('______________________________________________________')"
   ]
  },
  {
   "cell_type": "code",
   "execution_count": 23,
   "metadata": {},
   "outputs": [
    {
     "name": "stdout",
     "output_type": "stream",
     "text": [
      "Mean Accuracy[0.8888] IC [0.8460, 0.9317]\n",
      "Mean Recall[0.8944] IC [0.8522, 0.9366]\n",
      "Mean F1[0.8743] IC [0.8240, 0.9246]\n",
      "Mean size[0.164]\n",
      "Mean training time[10734.799]\n",
      "Mean prediction time[1.295]\n"
     ]
    }
   ],
   "source": [
    "ic_acc = st.t.interval(0.9, len(avg_acc) - 1, loc=np.mean(avg_acc), scale=st.sem(avg_acc))\n",
    "ic_recall = st.t.interval(0.9, len(avg_recall) - 1, loc=np.mean(avg_recall), scale=st.sem(avg_recall))\n",
    "ic_f1 = st.t.interval(0.9, len(avg_f1) - 1, loc=np.mean(avg_f1), scale=st.sem(avg_f1))\n",
    "print('Mean Accuracy[{:.4f}] IC [{:.4f}, {:.4f}]'.format(np.mean(avg_acc), ic_acc[0], ic_acc[1]))\n",
    "print('Mean Recall[{:.4f}] IC [{:.4f}, {:.4f}]'.format(np.mean(avg_recall), ic_recall[0], ic_recall[1]))\n",
    "print('Mean F1[{:.4f}] IC [{:.4f}, {:.4f}]'.format(np.mean(avg_f1), ic_f1[0], ic_f1[1]))\n",
    "print('Mean size[{:.3f}]'.format(np.mean(avg_size)))\n",
    "print('Mean training time[{:.3f}]'.format(round(np.mean(avg_ttime)*1000,3)))\n",
    "print('Mean prediction time[{:.3f}]'.format(round(np.mean(avg_ptime)*1000,3)))"
   ]
  },
  {
   "cell_type": "code",
   "execution_count": 21,
   "metadata": {},
   "outputs": [],
   "source": [
    "class StreamForests():\n",
    "\n",
    "    def __init__(self,\n",
    "                base_estimator,\n",
    "                base_params,\n",
    "                n_estimators=100):\n",
    "        self.base_estimator = base_estimator\n",
    "        self.base_params = base_params.copy()\n",
    "        self.n_estimators = n_estimators\n",
    "        self.estimators = []\n",
    "\n",
    "    def fit(self, X, y):\n",
    "\n",
    "        X = X.astype(np.float)\n",
    "        y = y.astype(np.float)\n",
    "        if \"random_state\" not in self.base_params:\n",
    "            self.base_params[\"random_state\"] = 1\n",
    " \n",
    "        bonsai_tmp = RegTree()\n",
    "        bonsai_tmp.init_cnvs(X)\n",
    "        xdim, cnvs, cnvsn = bonsai_tmp.get_cnvs()\n",
    "        #print(\"hell\")\n",
    "        for i in range(self.n_estimators):\n",
    "            self.base_params[\"random_state\"] += 1\n",
    "            estimator = self.base_estimator(**self.base_params)\n",
    "            estimator.set_cnvs(xdim, cnvs, cnvsn)\n",
    "            estimator.fit(X, y, init_cnvs=False)\n",
    "            self.estimators.append(estimator)\n",
    "\n",
    "    def predict(self, X):\n",
    "        n, m = X.shape\n",
    "        y_hat = np.zeros(n) \n",
    "        k = len(self.estimators)\n",
    "        for estimator in self.estimators:\n",
    "            y_hat += estimator.predict(X) \n",
    "        y_hat /= k\n",
    "        return y_hat\n",
    "\n",
    "    def dump(self, columns=[]): \n",
    "        return [estimator.dump(columns) \n",
    "                for estimator in self.estimators]\n",
    "      \n"
   ]
  },
  {
   "cell_type": "code",
   "execution_count": null,
   "metadata": {},
   "outputs": [],
   "source": []
  }
 ],
 "metadata": {
  "kernelspec": {
   "display_name": "Python 3",
   "language": "python",
   "name": "python3"
  },
  "language_info": {
   "codemirror_mode": {
    "name": "ipython",
    "version": 3
   },
   "file_extension": ".py",
   "mimetype": "text/x-python",
   "name": "python",
   "nbconvert_exporter": "python",
   "pygments_lexer": "ipython3",
   "version": "3.7.6"
  }
 },
 "nbformat": 4,
 "nbformat_minor": 4
}
