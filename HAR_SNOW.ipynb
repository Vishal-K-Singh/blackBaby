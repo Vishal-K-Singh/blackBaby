{
 "cells": [
  {
   "cell_type": "markdown",
   "metadata": {},
   "source": [
    "# Smart Wearables -- Bonsai Tree Classification on stream data"
   ]
  },
  {
   "cell_type": "markdown",
   "metadata": {},
   "source": [
    "## 1. Introduction & Library Imports "
   ]
  },
  {
   "cell_type": "code",
   "execution_count": 24,
   "metadata": {},
   "outputs": [],
   "source": [
    "import numpy as np\n",
    "from sklearn.metrics.classification import accuracy_score, recall_score, f1_score\n",
    "import scipy.stats as st\n",
    "import sys\n",
    "from sklearn.model_selection import train_test_split\n",
    "from bonsai.base.regtree import RegTree\n",
    "from bonsai.base.alphatree import AlphaTree\n",
    "from bonsai.base.c45tree import C45Tree\n",
    "from bonsai.base.ginitree import GiniTree\n",
    "from bonsai.base.xgbtree import XGBTree\n",
    "from bonsai.base.friedmantree import FriedmanTree\n",
    "from bonsai.ensemble.randomforests import RandomForests\n",
    "from bonsai.ensemble.paloboost import PaloBoost\n",
    "from bonsai.ensemble.gbm import GBM\n",
    "import copy\n",
    "import time"
   ]
  },
  {
   "cell_type": "code",
   "execution_count": null,
   "metadata": {},
   "outputs": [],
   "source": []
  },
  {
   "cell_type": "markdown",
   "metadata": {},
   "source": [
    "## 2. Data Gathering"
   ]
  },
  {
   "cell_type": "code",
   "execution_count": 56,
   "metadata": {},
   "outputs": [],
   "source": [
    "data_input_file = 'data/SNOW/MHEALTH.npz'\n",
    "np_load_old = np.load\n",
    "\n",
    "# modify the default parameters of np.load\n",
    "np.load = lambda *a,**k: np_load_old(*a, allow_pickle=True, **k)\n",
    "tmp = np.load(data_input_file)\n",
    "np.load = np_load_old"
   ]
  },
  {
   "cell_type": "code",
   "execution_count": 57,
   "metadata": {},
   "outputs": [],
   "source": [
    "X = tmp['X']\n",
    "X = X[:, 0, :, :]\n",
    "y = tmp['y']\n",
    "folds = tmp['folds']"
   ]
  },
  {
   "cell_type": "code",
   "execution_count": 58,
   "metadata": {},
   "outputs": [
    {
     "name": "stdout",
     "output_type": "stream",
     "text": [
      "Hancrafted Template 2017 data/SNOW/MHEALTH.npz\n"
     ]
    }
   ],
   "source": [
    "n_class = y.shape[1]\n",
    "y = np.argmax(y, axis=1)\n",
    "print('Hancrafted Template 2017 {}'.format(data_input_file))"
   ]
  },
  {
   "cell_type": "markdown",
   "metadata": {},
   "source": [
    "## 3. Feature Engineering"
   ]
  },
  {
   "cell_type": "code",
   "execution_count": 10,
   "metadata": {},
   "outputs": [],
   "source": [
    "def A(sample):\n",
    "    feat = []\n",
    "    for col in range(0,sample.shape[1]):\n",
    "        average = np.average(sample[:,col])\n",
    "        feat.append(average)\n",
    "\n",
    "    return feat\n",
    "\n",
    "def SD(sample):\n",
    "    feat = []\n",
    "    for col in range(0, sample.shape[1]):\n",
    "        std = np.std(sample[:, col])\n",
    "        feat.append(std)\n",
    "\n",
    "    return feat\n",
    "\n",
    "def AAD(sample):\n",
    "    feat = []\n",
    "    for col in range(0, sample.shape[1]):\n",
    "        data = sample[:, col]\n",
    "        add = np.mean(np.absolute(data - np.mean(data)))\n",
    "        feat.append(add)\n",
    "\n",
    "    return feat\n",
    "\n",
    "def ARA(sample):\n",
    "    #Average Resultant Acceleration[1]:\n",
    "    # Average of the square roots of the sum of the values of each axis squared √(xi^2 + yi^2+ zi^2) over the ED\n",
    "    feat = []\n",
    "    sum_square = 0\n",
    "    sample = np.power(sample, 2)\n",
    "    for col in range(0, sample.shape[1]):\n",
    "        sum_square = sum_square + sample[:, col]\n",
    "\n",
    "    sample = np.sqrt(sum_square)\n",
    "    average = np.average(sample)\n",
    "    feat.append(average)\n",
    "    return feat\n",
    "\n",
    "def TBP(sample):\n",
    "    from scipy import signal\n",
    "    feat = []\n",
    "    sum_of_time = 0\n",
    "    for col in range(0, sample.shape[1]):\n",
    "        data = sample[:, col]\n",
    "        peaks = signal.find_peaks_cwt(data, np.arange(1,4))\n",
    "\n",
    "        feat.append(peaks)\n",
    "\n",
    "    return feat\n",
    "\n",
    "def feature_extraction(X):\n",
    "    #Extracts the features, as mentioned by Catal et al. 2015\n",
    "    # Average - A,\n",
    "    # Standard Deviation - SD,\n",
    "    # Average Absolute Difference - AAD,\n",
    "    # Average Resultant Acceleration - ARA(1),\n",
    "    # Time Between Peaks - TBP\n",
    "    X_tmp = []\n",
    "    for sample in X:\n",
    "        features = A(copy.copy(sample))\n",
    "        features = np.hstack((features, A(copy.copy(sample))))\n",
    "        features = np.hstack((features, SD(copy.copy(sample))))\n",
    "        features = np.hstack((features, AAD(copy.copy(sample))))\n",
    "        features = np.hstack((features, ARA(copy.copy(sample))))\n",
    "        #features = np.hstack((features, TBP(sample)))\n",
    "        X_tmp.append(features)\n",
    "\n",
    "    X = np.array(X_tmp)\n",
    "    return X\n"
   ]
  },
  {
   "cell_type": "markdown",
   "metadata": {},
   "source": [
    "## 4. RegTree"
   ]
  },
  {
   "cell_type": "code",
   "execution_count": 45,
   "metadata": {},
   "outputs": [
    {
     "name": "stdout",
     "output_type": "stream",
     "text": [
      "Accuracy[0.9729] Recall[0.9743] F1[0.9744] at fold[0]\n",
      "______________________________________________________\n",
      "Accuracy[0.9844] Recall[0.9855] F1[0.9847] at fold[1]\n",
      "______________________________________________________\n",
      "Accuracy[1.0000] Recall[1.0000] F1[1.0000] at fold[2]\n",
      "______________________________________________________\n",
      "Accuracy[0.9766] Recall[0.9783] F1[0.9773] at fold[3]\n",
      "______________________________________________________\n",
      "Accuracy[0.9961] Recall[0.9962] F1[0.9962] at fold[4]\n",
      "______________________________________________________\n",
      "Accuracy[0.9882] Recall[0.9807] F1[0.9845] at fold[5]\n",
      "______________________________________________________\n",
      "Accuracy[0.9882] Recall[0.9891] F1[0.9891] at fold[6]\n",
      "______________________________________________________\n",
      "Accuracy[0.9882] Recall[0.9888] F1[0.9886] at fold[7]\n",
      "______________________________________________________\n",
      "Accuracy[0.9804] Recall[0.9648] F1[0.9714] at fold[8]\n",
      "______________________________________________________\n",
      "Accuracy[0.9961] Recall[0.9960] F1[0.9961] at fold[9]\n",
      "______________________________________________________\n"
     ]
    }
   ],
   "source": [
    "avg_acc = []\n",
    "avg_recall = []\n",
    "avg_f1 = []\n",
    "avg_ttime=[]\n",
    "avg_ptime=[]\n",
    "avg_size=[]\n",
    "for i in range(0, len(folds)):\n",
    "    train_idx = folds[i][0]\n",
    "    test_idx = folds[i][1]\n",
    "\n",
    "    X_train, y_train = X[train_idx], y[train_idx]\n",
    "    X_test, y_test = X[test_idx], y[test_idx]\n",
    "\n",
    "        #Your train goes here. For instance:\n",
    "    #X_train=X_train.transpose(0,1,2).reshape(X_train.shape[0],-1)\n",
    "    #X_test=X_test.transpose(0,1,2).reshape(X_test.shape[0],-1)\n",
    "    X_train = feature_extraction(X_train)\n",
    "    X_test = feature_extraction(X_test)      \n",
    "        \n",
    "    method = RegTree(max_depth=8)\n",
    "    t0=time.time()\n",
    "    method.fit(X_train, y_train)\n",
    "    avg_ttime.append(time.time()-t0)\n",
    "            #Your testing goes here. For instance:\n",
    "    t1=time.time()\n",
    "    y_pred = method.predict(X_test)\n",
    "    avg_ptime.append(time.time()-t1)\n",
    "    y_pred=np.round(y_pred,0)\n",
    "    y_pred=y_pred.astype(int)\n",
    "    v=method.dump()\n",
    "    avg_size.append(round(v.__sizeof__()/1024,3))\n",
    "\n",
    "    acc_fold = accuracy_score(y_test, y_pred)\n",
    "    avg_acc.append(acc_fold)\n",
    "\n",
    "    recall_fold = recall_score(y_test, y_pred, average='macro')\n",
    "    avg_recall.append(recall_fold)\n",
    "\n",
    "    f1_fold  = f1_score(y_test, y_pred, average='macro')\n",
    "    avg_f1.append(f1_fold)\n",
    "    \n",
    "\n",
    "\n",
    "\n",
    "    print('Accuracy[{:.4f}] Recall[{:.4f}] F1[{:.4f}] at fold[{}]'.format(acc_fold, recall_fold, f1_fold ,i))\n",
    "    print('______________________________________________________')"
   ]
  },
  {
   "cell_type": "code",
   "execution_count": 46,
   "metadata": {},
   "outputs": [
    {
     "name": "stdout",
     "output_type": "stream",
     "text": [
      "Mean Accuracy[0.9871] IC [0.9820, 0.9922]\n",
      "Mean Recall[0.9854] IC [0.9790, 0.9918]\n",
      "Mean F1[0.9862] IC [0.9806, 0.9919]\n",
      "Mean size[0.853]\n",
      "Mean training time[942.159]\n",
      "Mean prediction time[0.150]\n"
     ]
    }
   ],
   "source": [
    "ic_acc = st.t.interval(0.9, len(avg_acc) - 1, loc=np.mean(avg_acc), scale=st.sem(avg_acc))\n",
    "ic_recall = st.t.interval(0.9, len(avg_recall) - 1, loc=np.mean(avg_recall), scale=st.sem(avg_recall))\n",
    "ic_f1 = st.t.interval(0.9, len(avg_f1) - 1, loc=np.mean(avg_f1), scale=st.sem(avg_f1))\n",
    "print('Mean Accuracy[{:.4f}] IC [{:.4f}, {:.4f}]'.format(np.mean(avg_acc), ic_acc[0], ic_acc[1]))\n",
    "print('Mean Recall[{:.4f}] IC [{:.4f}, {:.4f}]'.format(np.mean(avg_recall), ic_recall[0], ic_recall[1]))\n",
    "print('Mean F1[{:.4f}] IC [{:.4f}, {:.4f}]'.format(np.mean(avg_f1), ic_f1[0], ic_f1[1]))\n",
    "print('Mean size[{:.3f}]'.format(np.mean(avg_size)))\n",
    "print('Mean training time[{:.3f}]'.format(round(np.mean(avg_ttime)*1000,3)))\n",
    "print('Mean prediction time[{:.3f}]'.format(round(np.mean(avg_ptime)*1000,3)))"
   ]
  },
  {
   "cell_type": "code",
   "execution_count": null,
   "metadata": {},
   "outputs": [],
   "source": []
  },
  {
   "cell_type": "markdown",
   "metadata": {},
   "source": [
    "## 5. XGBTree"
   ]
  },
  {
   "cell_type": "code",
   "execution_count": 59,
   "metadata": {},
   "outputs": [
    {
     "name": "stdout",
     "output_type": "stream",
     "text": [
      "Accuracy[0.9806] Recall[0.9816] F1[0.9819] at fold[0]\n",
      "______________________________________________________\n",
      "Accuracy[0.9961] Recall[0.9964] F1[0.9963] at fold[1]\n",
      "______________________________________________________\n",
      "Accuracy[1.0000] Recall[1.0000] F1[1.0000] at fold[2]\n",
      "______________________________________________________\n",
      "Accuracy[0.9922] Recall[0.9928] F1[0.9927] at fold[3]\n",
      "______________________________________________________\n",
      "Accuracy[0.9961] Recall[0.9964] F1[0.9964] at fold[4]\n",
      "______________________________________________________\n",
      "Accuracy[0.9843] Recall[0.9771] F1[0.9808] at fold[5]\n",
      "______________________________________________________\n",
      "Accuracy[0.9961] Recall[0.9964] F1[0.9964] at fold[6]\n",
      "______________________________________________________\n",
      "Accuracy[1.0000] Recall[1.0000] F1[1.0000] at fold[7]\n",
      "______________________________________________________\n",
      "Accuracy[0.9882] Recall[0.9726] F1[0.9792] at fold[8]\n",
      "______________________________________________________\n",
      "Accuracy[0.9921] Recall[0.9928] F1[0.9927] at fold[9]\n",
      "______________________________________________________\n"
     ]
    }
   ],
   "source": [
    "avg_acc = []\n",
    "avg_recall = []\n",
    "avg_f1 = []\n",
    "avg_ttime=[]\n",
    "avg_ptime=[]\n",
    "avg_size=[]\n",
    "for i in range(0, len(folds)):\n",
    "    train_idx = folds[i][0]\n",
    "    test_idx = folds[i][1]\n",
    "\n",
    "    X_train, y_train = X[train_idx], y[train_idx]\n",
    "    X_test, y_test = X[test_idx], y[test_idx]\n",
    "    \n",
    "    X_train = feature_extraction(X_train)\n",
    "    X_test = feature_extraction(X_test)      \n",
    "        \n",
    "    method = XGBTree(max_depth=10,min_samples_split=1,min_samples_leaf=1)\n",
    "    t0=time.time()\n",
    "    method.fit(X_train, y_train)\n",
    "    avg_ttime.append(time.time()-t0)\n",
    "            #Your testing goes here. For instance:\n",
    "    t1=time.time()\n",
    "    y_pred = method.predict(X_test)\n",
    "    avg_ptime.append(time.time()-t1)\n",
    "    y_pred=np.round(y_pred,0)\n",
    "    y_pred=y_pred.astype(int)\n",
    "    v=method.dump()\n",
    "    avg_size.append(round(v.__sizeof__()/1024,3))\n",
    "\n",
    "    acc_fold = accuracy_score(y_test, y_pred)\n",
    "    avg_acc.append(acc_fold)\n",
    "\n",
    "    recall_fold = recall_score(y_test, y_pred, average='macro')\n",
    "    avg_recall.append(recall_fold)\n",
    "\n",
    "    f1_fold  = f1_score(y_test, y_pred, average='macro')\n",
    "    avg_f1.append(f1_fold)\n",
    "    \n",
    "\n",
    "    print('Accuracy[{:.4f}] Recall[{:.4f}] F1[{:.4f}] at fold[{}]'.format(acc_fold, recall_fold, f1_fold ,i))\n",
    "    print('______________________________________________________')"
   ]
  },
  {
   "cell_type": "code",
   "execution_count": 60,
   "metadata": {},
   "outputs": [
    {
     "name": "stdout",
     "output_type": "stream",
     "text": [
      "Mean Accuracy[0.9926] IC [0.9888, 0.9963]\n",
      "Mean Recall[0.9906] IC [0.9849, 0.9963]\n",
      "Mean F1[0.9916] IC [0.9870, 0.9963]\n",
      "Mean size[0.976]\n",
      "Mean training time[1248.039]\n",
      "Mean prediction time[0.163]\n"
     ]
    }
   ],
   "source": [
    "ic_acc = st.t.interval(0.9, len(avg_acc) - 1, loc=np.mean(avg_acc), scale=st.sem(avg_acc))\n",
    "ic_recall = st.t.interval(0.9, len(avg_recall) - 1, loc=np.mean(avg_recall), scale=st.sem(avg_recall))\n",
    "ic_f1 = st.t.interval(0.9, len(avg_f1) - 1, loc=np.mean(avg_f1), scale=st.sem(avg_f1))\n",
    "print('Mean Accuracy[{:.4f}] IC [{:.4f}, {:.4f}]'.format(np.mean(avg_acc), ic_acc[0], ic_acc[1]))\n",
    "print('Mean Recall[{:.4f}] IC [{:.4f}, {:.4f}]'.format(np.mean(avg_recall), ic_recall[0], ic_recall[1]))\n",
    "print('Mean F1[{:.4f}] IC [{:.4f}, {:.4f}]'.format(np.mean(avg_f1), ic_f1[0], ic_f1[1]))\n",
    "print('Mean size[{:.3f}]'.format(np.mean(avg_size)))\n",
    "print('Mean training time[{:.3f}]'.format(round(np.mean(avg_ttime)*1000,3)))\n",
    "print('Mean prediction time[{:.3f}]'.format(round(np.mean(avg_ptime)*1000,3)))"
   ]
  },
  {
   "cell_type": "code",
   "execution_count": null,
   "metadata": {},
   "outputs": [],
   "source": []
  },
  {
   "cell_type": "markdown",
   "metadata": {},
   "source": [
    "## 6. FriedmanTree"
   ]
  },
  {
   "cell_type": "code",
   "execution_count": 49,
   "metadata": {},
   "outputs": [
    {
     "name": "stdout",
     "output_type": "stream",
     "text": [
      "Accuracy[0.9806] Recall[0.9816] F1[0.9819] at fold[0]\n",
      "______________________________________________________\n",
      "Accuracy[0.9961] Recall[0.9964] F1[0.9962] at fold[1]\n",
      "______________________________________________________\n",
      "Accuracy[0.9922] Recall[0.9845] F1[0.9883] at fold[2]\n",
      "______________________________________________________\n",
      "Accuracy[0.9844] Recall[0.9853] F1[0.9853] at fold[3]\n",
      "______________________________________________________\n",
      "Accuracy[0.9961] Recall[0.9964] F1[0.9964] at fold[4]\n",
      "______________________________________________________\n",
      "Accuracy[0.9922] Recall[0.9843] F1[0.9880] at fold[5]\n",
      "______________________________________________________\n",
      "Accuracy[0.9961] Recall[0.9964] F1[0.9964] at fold[6]\n",
      "______________________________________________________\n",
      "Accuracy[0.9961] Recall[0.9962] F1[0.9961] at fold[7]\n",
      "______________________________________________________\n",
      "Accuracy[0.9882] Recall[0.9726] F1[0.9792] at fold[8]\n",
      "______________________________________________________\n",
      "Accuracy[0.9803] Recall[0.9812] F1[0.9811] at fold[9]\n",
      "______________________________________________________\n"
     ]
    }
   ],
   "source": [
    "avg_acc = []\n",
    "avg_recall = []\n",
    "avg_f1 = []\n",
    "avg_ttime=[]\n",
    "avg_ptime=[]\n",
    "avg_size=[]\n",
    "for i in range(0, len(folds)):\n",
    "    train_idx = folds[i][0]\n",
    "    test_idx = folds[i][1]\n",
    "\n",
    "    X_train, y_train = X[train_idx], y[train_idx]\n",
    "    X_test, y_test = X[test_idx], y[test_idx]\n",
    "\n",
    "    X_train = feature_extraction(X_train)\n",
    "    X_test = feature_extraction(X_test)      \n",
    "        \n",
    "    method = FriedmanTree(max_depth=8,min_samples_split=1,min_samples_leaf=1)\n",
    "    t0=time.time()\n",
    "    method.fit(X_train, y_train)\n",
    "    avg_ttime.append(time.time()-t0)\n",
    "            #Your testing goes here. For instance:\n",
    "    t1=time.time()\n",
    "    y_pred = method.predict(X_test)\n",
    "    avg_ptime.append(time.time()-t1)\n",
    "    y_pred=np.round(y_pred,0)\n",
    "    y_pred=y_pred.astype(int)\n",
    "    v=method.dump()\n",
    "    avg_size.append(round(v.__sizeof__()/1024,3))\n",
    "\n",
    "    acc_fold = accuracy_score(y_test, y_pred)\n",
    "    avg_acc.append(acc_fold)\n",
    "\n",
    "    recall_fold = recall_score(y_test, y_pred, average='macro')\n",
    "    avg_recall.append(recall_fold)\n",
    "\n",
    "    f1_fold  = f1_score(y_test, y_pred, average='macro')\n",
    "    avg_f1.append(f1_fold)\n",
    "\n",
    "    print('Accuracy[{:.4f}] Recall[{:.4f}] F1[{:.4f}] at fold[{}]'.format(acc_fold, recall_fold, f1_fold ,i))\n",
    "    print('______________________________________________________')"
   ]
  },
  {
   "cell_type": "code",
   "execution_count": 50,
   "metadata": {},
   "outputs": [
    {
     "name": "stdout",
     "output_type": "stream",
     "text": [
      "Mean Accuracy[0.9902] IC [0.9865, 0.9940]\n",
      "Mean Recall[0.9875] IC [0.9826, 0.9923]\n",
      "Mean F1[0.9889] IC [0.9848, 0.9929]\n",
      "Mean size[0.825]\n",
      "Mean training time[880.433]\n",
      "Mean prediction time[0.143]\n"
     ]
    }
   ],
   "source": [
    "ic_acc = st.t.interval(0.9, len(avg_acc) - 1, loc=np.mean(avg_acc), scale=st.sem(avg_acc))\n",
    "ic_recall = st.t.interval(0.9, len(avg_recall) - 1, loc=np.mean(avg_recall), scale=st.sem(avg_recall))\n",
    "ic_f1 = st.t.interval(0.9, len(avg_f1) - 1, loc=np.mean(avg_f1), scale=st.sem(avg_f1))\n",
    "print('Mean Accuracy[{:.4f}] IC [{:.4f}, {:.4f}]'.format(np.mean(avg_acc), ic_acc[0], ic_acc[1]))\n",
    "print('Mean Recall[{:.4f}] IC [{:.4f}, {:.4f}]'.format(np.mean(avg_recall), ic_recall[0], ic_recall[1]))\n",
    "print('Mean F1[{:.4f}] IC [{:.4f}, {:.4f}]'.format(np.mean(avg_f1), ic_f1[0], ic_f1[1]))\n",
    "print('Mean size[{:.3f}]'.format(np.mean(avg_size)))\n",
    "print('Mean training time[{:.3f}]'.format(round(np.mean(avg_ttime)*1000,3)))\n",
    "print('Mean prediction time[{:.3f}]'.format(round(np.mean(avg_ptime)*1000,3)))"
   ]
  },
  {
   "cell_type": "code",
   "execution_count": null,
   "metadata": {},
   "outputs": [],
   "source": []
  },
  {
   "cell_type": "markdown",
   "metadata": {},
   "source": [
    "## 7. PaloBoost"
   ]
  },
  {
   "cell_type": "code",
   "execution_count": 52,
   "metadata": {},
   "outputs": [
    {
     "name": "stdout",
     "output_type": "stream",
     "text": [
      "Accuracy[0.9612] Recall[0.9636] F1[0.9630] at fold[0]\n",
      "______________________________________________________\n",
      "Accuracy[0.9922] Recall[0.9928] F1[0.9924] at fold[1]\n",
      "______________________________________________________\n",
      "Accuracy[0.9766] Recall[0.9776] F1[0.9773] at fold[2]\n",
      "______________________________________________________\n",
      "Accuracy[0.9844] Recall[0.9771] F1[0.9805] at fold[3]\n",
      "______________________________________________________\n",
      "Accuracy[0.9804] Recall[0.9811] F1[0.9805] at fold[4]\n",
      "______________________________________________________\n",
      "Accuracy[0.9608] Recall[0.9629] F1[0.9627] at fold[5]\n",
      "______________________________________________________\n",
      "Accuracy[0.9804] Recall[0.9814] F1[0.9812] at fold[6]\n",
      "______________________________________________________\n",
      "Accuracy[0.9922] Recall[0.9924] F1[0.9923] at fold[7]\n",
      "______________________________________________________\n",
      "Accuracy[0.9765] Recall[0.9691] F1[0.9690] at fold[8]\n",
      "______________________________________________________\n",
      "Accuracy[0.9724] Recall[0.9738] F1[0.9738] at fold[9]\n",
      "______________________________________________________\n"
     ]
    }
   ],
   "source": [
    "avg_acc = []\n",
    "avg_recall = []\n",
    "avg_f1 = []\n",
    "avg_ttime=[]\n",
    "avg_ptime=[]\n",
    "avg_size=[]\n",
    "for i in range(0, len(folds)):\n",
    "    train_idx = folds[i][0]\n",
    "    test_idx = folds[i][1]\n",
    "\n",
    "    X_train, y_train = X[train_idx], y[train_idx]\n",
    "    X_test, y_test = X[test_idx], y[test_idx]\n",
    "\n",
    "        #Your train goes here. For instance:\n",
    "    #X_train=X_train.transpose(0,1,2).reshape(X_train.shape[0],-1)\n",
    "    #X_test=X_test.transpose(0,1,2).reshape(X_test.shape[0],-1)\n",
    "    X_train = feature_extraction(X_train)\n",
    "    X_test = feature_extraction(X_test)      \n",
    "        \n",
    "    method = PaloBoost(n_estimators=100,max_depth=5)\n",
    "    t0=time.time()\n",
    "    method.fit(X_train, y_train)\n",
    "    avg_ttime.append(time.time()-t0)\n",
    "            #Your testing goes here. For instance:\n",
    "    t1=time.time()\n",
    "    y_pred = method.predict(X_test)\n",
    "    avg_ptime.append(time.time()-t1)\n",
    "    y_pred=np.round(y_pred,0)\n",
    "    y_pred=y_pred.astype(int)\n",
    "    v=method.dump()\n",
    "    avg_size.append(round(v.__sizeof__()/1024,3))\n",
    "\n",
    "    acc_fold = accuracy_score(y_test, y_pred)\n",
    "    avg_acc.append(acc_fold)\n",
    "\n",
    "    recall_fold = recall_score(y_test, y_pred, average='macro')\n",
    "    avg_recall.append(recall_fold)\n",
    "\n",
    "    f1_fold  = f1_score(y_test, y_pred, average='macro')\n",
    "    avg_f1.append(f1_fold)\n",
    "\n",
    "    print('Accuracy[{:.4f}] Recall[{:.4f}] F1[{:.4f}] at fold[{}]'.format(acc_fold, recall_fold, f1_fold ,i))\n",
    "    print('______________________________________________________')"
   ]
  },
  {
   "cell_type": "code",
   "execution_count": 53,
   "metadata": {},
   "outputs": [
    {
     "name": "stdout",
     "output_type": "stream",
     "text": [
      "Mean Accuracy[0.9777] IC [0.9714, 0.9840]\n",
      "Mean Recall[0.9772] IC [0.9712, 0.9832]\n",
      "Mean F1[0.9773] IC [0.9712, 0.9834]\n",
      "Mean size[0.211]\n",
      "Mean training time[25474.252]\n",
      "Mean prediction time[6.023]\n"
     ]
    }
   ],
   "source": [
    "ic_acc = st.t.interval(0.9, len(avg_acc) - 1, loc=np.mean(avg_acc), scale=st.sem(avg_acc))\n",
    "ic_recall = st.t.interval(0.9, len(avg_recall) - 1, loc=np.mean(avg_recall), scale=st.sem(avg_recall))\n",
    "ic_f1 = st.t.interval(0.9, len(avg_f1) - 1, loc=np.mean(avg_f1), scale=st.sem(avg_f1))\n",
    "print('Mean Accuracy[{:.4f}] IC [{:.4f}, {:.4f}]'.format(np.mean(avg_acc), ic_acc[0], ic_acc[1]))\n",
    "print('Mean Recall[{:.4f}] IC [{:.4f}, {:.4f}]'.format(np.mean(avg_recall), ic_recall[0], ic_recall[1]))\n",
    "print('Mean F1[{:.4f}] IC [{:.4f}, {:.4f}]'.format(np.mean(avg_f1), ic_f1[0], ic_f1[1]))\n",
    "print('Mean size[{:.3f}]'.format(np.mean(avg_size)))\n",
    "print('Mean training time[{:.3f}]'.format(round(np.mean(avg_ttime)*1000,3)))\n",
    "print('Mean prediction time[{:.3f}]'.format(round(np.mean(avg_ptime)*1000,3)))"
   ]
  },
  {
   "cell_type": "code",
   "execution_count": null,
   "metadata": {},
   "outputs": [],
   "source": []
  },
  {
   "cell_type": "markdown",
   "metadata": {},
   "source": [
    "## 8. GBM"
   ]
  },
  {
   "cell_type": "code",
   "execution_count": 54,
   "metadata": {},
   "outputs": [
    {
     "name": "stdout",
     "output_type": "stream",
     "text": [
      "Accuracy[0.9806] Recall[0.9817] F1[0.9815] at fold[0]\n",
      "______________________________________________________\n",
      "Accuracy[0.9805] Recall[0.9814] F1[0.9812] at fold[1]\n",
      "______________________________________________________\n",
      "Accuracy[0.9844] Recall[0.9848] F1[0.9849] at fold[2]\n",
      "______________________________________________________\n",
      "Accuracy[0.9766] Recall[0.9783] F1[0.9770] at fold[3]\n",
      "______________________________________________________\n",
      "Accuracy[0.9843] Recall[0.9847] F1[0.9851] at fold[4]\n",
      "______________________________________________________\n",
      "Accuracy[0.9686] Recall[0.9624] F1[0.9661] at fold[5]\n",
      "______________________________________________________\n",
      "Accuracy[0.9804] Recall[0.9816] F1[0.9811] at fold[6]\n",
      "______________________________________________________\n",
      "Accuracy[0.9922] Recall[0.9924] F1[0.9923] at fold[7]\n",
      "______________________________________________________\n",
      "Accuracy[0.9765] Recall[0.9610] F1[0.9676] at fold[8]\n",
      "______________________________________________________\n",
      "Accuracy[0.9843] Recall[0.9847] F1[0.9846] at fold[9]\n",
      "______________________________________________________\n"
     ]
    }
   ],
   "source": [
    "avg_acc = []\n",
    "avg_recall = []\n",
    "avg_f1 = []\n",
    "avg_ttime=[]\n",
    "avg_ptime=[]\n",
    "avg_size=[]\n",
    "for i in range(0, len(folds)):\n",
    "    train_idx = folds[i][0]\n",
    "    test_idx = folds[i][1]\n",
    "\n",
    "    X_train, y_train = X[train_idx], y[train_idx]\n",
    "    X_test, y_test = X[test_idx], y[test_idx]\n",
    "\n",
    "        #Your train goes here. For instance:\n",
    "    #X_train=X_train.transpose(0,1,2).reshape(X_train.shape[0],-1)\n",
    "    #X_test=X_test.transpose(0,1,2).reshape(X_test.shape[0],-1)\n",
    "    X_train = feature_extraction(X_train)\n",
    "    X_test = feature_extraction(X_test)      \n",
    "        \n",
    "    method = GBM(n_estimators=100,max_depth=5)\n",
    "    t0=time.time()\n",
    "    method.fit(X_train, y_train)\n",
    "    avg_ttime.append(time.time()-t0)\n",
    "            #Your testing goes here. For instance:\n",
    "    t1=time.time()\n",
    "    y_pred = method.predict(X_test)\n",
    "    avg_ptime.append(time.time()-t1)\n",
    "    y_pred=np.round(y_pred,0)\n",
    "    y_pred=y_pred.astype(int)\n",
    "    v=method.dump()\n",
    "    avg_size.append(round(v.__sizeof__()/1024,3))\n",
    "\n",
    "    acc_fold = accuracy_score(y_test, y_pred)\n",
    "    avg_acc.append(acc_fold)\n",
    "\n",
    "    recall_fold = recall_score(y_test, y_pred, average='macro')\n",
    "    avg_recall.append(recall_fold)\n",
    "\n",
    "    f1_fold  = f1_score(y_test, y_pred, average='macro')\n",
    "    avg_f1.append(f1_fold)\n",
    "\n",
    "    print('Accuracy[{:.4f}] Recall[{:.4f}] F1[{:.4f}] at fold[{}]'.format(acc_fold, recall_fold, f1_fold ,i))\n",
    "    print('______________________________________________________')"
   ]
  },
  {
   "cell_type": "code",
   "execution_count": 55,
   "metadata": {},
   "outputs": [
    {
     "name": "stdout",
     "output_type": "stream",
     "text": [
      "Mean Accuracy[0.9808] IC [0.9772, 0.9844]\n",
      "Mean Recall[0.9793] IC [0.9735, 0.9851]\n",
      "Mean F1[0.9801] IC [0.9755, 0.9848]\n",
      "Mean size[0.211]\n",
      "Mean training time[25422.234]\n",
      "Mean prediction time[6.355]\n"
     ]
    }
   ],
   "source": [
    "ic_acc = st.t.interval(0.9, len(avg_acc) - 1, loc=np.mean(avg_acc), scale=st.sem(avg_acc))\n",
    "ic_recall = st.t.interval(0.9, len(avg_recall) - 1, loc=np.mean(avg_recall), scale=st.sem(avg_recall))\n",
    "ic_f1 = st.t.interval(0.9, len(avg_f1) - 1, loc=np.mean(avg_f1), scale=st.sem(avg_f1))\n",
    "print('Mean Accuracy[{:.4f}] IC [{:.4f}, {:.4f}]'.format(np.mean(avg_acc), ic_acc[0], ic_acc[1]))\n",
    "print('Mean Recall[{:.4f}] IC [{:.4f}, {:.4f}]'.format(np.mean(avg_recall), ic_recall[0], ic_recall[1]))\n",
    "print('Mean F1[{:.4f}] IC [{:.4f}, {:.4f}]'.format(np.mean(avg_f1), ic_f1[0], ic_f1[1]))\n",
    "print('Mean size[{:.3f}]'.format(np.mean(avg_size)))\n",
    "print('Mean training time[{:.3f}]'.format(round(np.mean(avg_ttime)*1000,3)))\n",
    "print('Mean prediction time[{:.3f}]'.format(round(np.mean(avg_ptime)*1000,3)))"
   ]
  },
  {
   "cell_type": "code",
   "execution_count": null,
   "metadata": {},
   "outputs": [],
   "source": []
  },
  {
   "cell_type": "markdown",
   "metadata": {},
   "source": [
    "## 9. Conclusion"
   ]
  },
  {
   "cell_type": "code",
   "execution_count": 23,
   "metadata": {},
   "outputs": [
    {
     "name": "stdout",
     "output_type": "stream",
     "text": [
      "+---------------+---------------+-------------+---------+\n",
      "|     Model     | Mean Accuracy | Mean Recall | Mean F1 |\n",
      "+---------------+---------------+-------------+---------+\n",
      "|    Reg Tree   |     0.9871    |    0.9854   |  0.9862 |\n",
      "|    XGB Tree   |     0.9926    |    0.9906   |  0.9916 |\n",
      "| Friedman Tree |     0.9902    |    0.9875   |  0.9889 |\n",
      "|   Palo Boost  |     0.9777    |    0.9772   |  0.9773 |\n",
      "|      GBM      |     0.9808    |    0.9793   |  0.9801 |\n",
      "+---------------+---------------+-------------+---------+\n",
      "+-------+---------------+-------------+---------+\n",
      "| Model | Mean Accuracy | Mean Recall | Mean F1 |\n",
      "+-------+---------------+-------------+---------+\n",
      "|  Mean |     98.56     |      0      |    0    |\n",
      "+-------+---------------+-------------+---------+\n"
     ]
    }
   ],
   "source": [
    "from prettytable import PrettyTable    \n",
    "x = PrettyTable()\n",
    "x.field_names = [\"Model\", \"Mean Accuracy\", \"Mean Recall\", \"Mean F1\"]\n",
    "x.add_row([\"Reg Tree\", 0.9871,0.9854,0.9862])\n",
    "x.add_row([\"XGB Tree\", 0.9926, 0.9906, 0.9916])\n",
    "x.add_row([\"Friedman Tree\", 0.9902, 0.9875, 0.9889])\n",
    "x.add_row([\"Palo Boost\", 0.9777, 0.9772, 0.9773])\n",
    "x.add_row([\"GBM\", 0.9808, 0.9793, 0.9801])\n",
    "\n",
    "y = PrettyTable()\n",
    "y.field_names = [\"Model\", \"Mean Accuracy\", \"Mean Recall\", \"Mean F1\"]\n",
    "y.add_row([\"Mean\", 98.56, 0, 0])\n",
    "print(x)\n",
    "print(y)"
   ]
  },
  {
   "cell_type": "code",
   "execution_count": null,
   "metadata": {},
   "outputs": [],
   "source": []
  },
  {
   "cell_type": "code",
   "execution_count": 12,
   "metadata": {},
   "outputs": [
    {
     "data": {
      "image/png": "[encoded data removed]",
      "text/plain": [
       "<Figure size 504x360 with 1 Axes>"
      ]
     },
     "metadata": {
      "needs_background": "light"
     },
     "output_type": "display_data"
    }
   ],
   "source": [
    "import numpy as np \n",
    "import matplotlib.pyplot as plt \n",
    "   \n",
    "# set width of bar \n",
    "barWidth = 0.05\n",
    "fig = plt.subplots(figsize =(7, 5)) \n",
    "   \n",
    "# set height of bar \n",
    "Reg = [98.62,97.68,82.92,84.37]\n",
    "XGB = [99.16,97.97,83.16,87.43]\n",
    "Friedman=[98.89,97.63,82.73,82.72]\n",
    "palo=[97.73,96.74,81.35,82.38]\n",
    "gbm=[98.01,97.09,83.42,84.26]\n",
    "#CSE = [29, 3, 24, 25, 17] \n",
    "   \n",
    "# Set position of bar on X axis \n",
    "br1 = np.arange(4) \n",
    "br2 = [x + barWidth for x in br1]\n",
    "br3 = [x + barWidth for x in br2] \n",
    "br4 = [x + barWidth for x in br3] \n",
    "br5 = [x + barWidth for x in br4] \n",
    "#br3 = [x + barWidth for x in br2] \n",
    "   \n",
    "# Make the plot \n",
    "p1=plt.bar(br1, Reg, color ='r', width = barWidth, \n",
    "        edgecolor ='grey', label ='Reg Tree') \n",
    "p2=plt.bar(br2, XGB, color ='b', width = barWidth, \n",
    "        edgecolor ='grey', label ='XGB')\n",
    "p3=plt.bar(br3, Friedman, color ='g', width = barWidth, \n",
    "        edgecolor ='grey', label ='Friedman Tree')\n",
    "p4=plt.bar(br4, palo, color ='y', width = barWidth, \n",
    "        edgecolor ='grey', label ='Palo Boost')\n",
    "p5=plt.bar(br5, gbm, color ='bg', width = barWidth, \n",
    "        edgecolor ='grey', label ='GBM')\n",
    "#plt.bar(br3, CSE, color ='b', width = barWidth, \n",
    "#        edgecolor ='grey', label ='CSE') \n",
    "   \n",
    "# Adding Xticks  \n",
    "plt.xlabel('', fontweight ='bold') \n",
    "plt.ylabel('F1 Score', fontweight ='bold') \n",
    "plt.xticks([r + 0.1 for r in range(4)], \n",
    "           ['SNOW', 'FNOW', 'LOTO', 'LOSO']) \n",
    "plt.legend((p1[0], p2[0],p3[0],p4[0],p5[0]), ('Reg Tree', 'XGB','Friedman Tree','Palo Boost','GBM'),loc='lower right') \n",
    "#plt.title('Comparison of Mean Accuracies with benchmark paper ') \n",
    "plt.show() "
   ]
  },
  {
   "cell_type": "code",
   "execution_count": null,
   "metadata": {},
   "outputs": [],
   "source": []
  },
  {
   "cell_type": "code",
   "execution_count": 2,
   "metadata": {},
   "outputs": [
    {
     "name": "stdout",
     "output_type": "stream",
     "text": [
      "0.00012993812561035156\n",
      "10.000923871994019\n"
     ]
    }
   ],
   "source": [
    "import time\n",
    "t1=time.time()\n",
    "print(time.time()-t1)\n",
    "t1=time.time()\n",
    "time.sleep(10)\n",
    "print(time.time()-t1)"
   ]
  },
  {
   "cell_type": "code",
   "execution_count": null,
   "metadata": {},
   "outputs": [],
   "source": []
  }
 ],
 "metadata": {
  "kernelspec": {
   "display_name": "Python 3",
   "language": "python",
   "name": "python3"
  },
  "language_info": {
   "codemirror_mode": {
    "name": "ipython",
    "version": 3
   },
   "file_extension": ".py",
   "mimetype": "text/x-python",
   "name": "python",
   "nbconvert_exporter": "python",
   "pygments_lexer": "ipython3",
   "version": "3.7.6"
  }
 },
 "nbformat": 4,
 "nbformat_minor": 4
}
